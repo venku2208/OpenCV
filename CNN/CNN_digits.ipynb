{
 "cells": [
  {
   "cell_type": "code",
   "execution_count": 1,
   "metadata": {},
   "outputs": [
    {
     "name": "stderr",
     "output_type": "stream",
     "text": [
      "Using TensorFlow backend.\n"
     ]
    }
   ],
   "source": [
    "import keras\n",
    "import tensorflow as tf"
   ]
  },
  {
   "cell_type": "markdown",
   "metadata": {},
   "source": [
    "## Loading Data"
   ]
  },
  {
   "cell_type": "code",
   "execution_count": 1,
   "metadata": {},
   "outputs": [
    {
     "name": "stderr",
     "output_type": "stream",
     "text": [
      "Using TensorFlow backend.\n"
     ]
    },
    {
     "name": "stdout",
     "output_type": "stream",
     "text": [
      "(10000, 28, 28)\n"
     ]
    }
   ],
   "source": [
    "from keras.datasets import mnist\n",
    "\n",
    "(xtrain,ytrain),(xtest,ytest)=mnist.load_data()\n",
    "print(xtest.shape)"
   ]
  },
  {
   "cell_type": "markdown",
   "metadata": {},
   "source": [
    "## Getting Random Image"
   ]
  },
  {
   "cell_type": "code",
   "execution_count": 11,
   "metadata": {},
   "outputs": [],
   "source": [
    "import cv2\n",
    "import numpy as np\n",
    "\n",
    "for i in range(0,6):\n",
    "    randomnum=np.random.randint(0,len(xtrain))\n",
    "    img = xtrain[randomnum]\n",
    "    name = 'random image ' +str(i)\n",
    "    cv2.imshow(name,img)\n",
    "    cv2.waitKey(0)\n",
    "    \n",
    "cv2.destroyAllWindows()"
   ]
  },
  {
   "cell_type": "code",
   "execution_count": 8,
   "metadata": {},
   "outputs": [
    {
     "data": {
      "image/png": "[encoded data removed]",
      "text/plain": [
       "<Figure size 432x288 with 6 Axes>"
      ]
     },
     "metadata": {
      "needs_background": "light"
     },
     "output_type": "display_data"
    }
   ],
   "source": [
    "import matplotlib.pyplot as plt\n",
    "import numpy as np\n",
    "\n",
    "plt.subplot(331)\n",
    "randnum = np.random.randint(0,len(xtrain))\n",
    "plt.imshow(xtrain[randnum],cmap = plt.get_cmap('gray'))\n",
    "\n",
    "plt.subplot(332)\n",
    "randnum = np.random.randint(0,len(xtrain))\n",
    "plt.imshow(xtrain[randnum],cmap = plt.get_cmap('gray'))\n",
    "\n",
    "\n",
    "plt.subplot(333)\n",
    "randnum = np.random.randint(0,len(xtrain))\n",
    "plt.imshow(xtrain[randnum],cmap = plt.get_cmap('gray'))\n",
    "\n",
    "\n",
    "plt.subplot(334)\n",
    "randnum = np.random.randint(0,len(xtrain))\n",
    "plt.imshow(xtrain[randnum],cmap = plt.get_cmap('gray'))\n",
    "\n",
    "\n",
    "plt.subplot(335)\n",
    "randnum = np.random.randint(0,len(xtrain))\n",
    "plt.imshow(xtrain[randnum],cmap = plt.get_cmap('gray'))\n",
    "\n",
    "\n",
    "plt.subplot(336)\n",
    "randnum = np.random.randint(0,len(xtrain))\n",
    "plt.imshow(xtrain[randnum],cmap = plt.get_cmap('gray'))\n",
    "\n",
    "plt.show()"
   ]
  },
  {
   "cell_type": "markdown",
   "metadata": {},
   "source": [
    "## shaping the data"
   ]
  },
  {
   "cell_type": "code",
   "execution_count": 2,
   "metadata": {},
   "outputs": [],
   "source": [
    "data = xtrain.shape[0]\n",
    "data1 = xtest.shape[0]\n",
    "img_rows = xtrain.shape[1]\n",
    "img_col = xtrain.shape[2]"
   ]
  },
  {
   "cell_type": "code",
   "execution_count": 3,
   "metadata": {},
   "outputs": [
    {
     "name": "stdout",
     "output_type": "stream",
     "text": [
      "(10000, 28, 28, 1)\n"
     ]
    }
   ],
   "source": [
    "x_train = xtrain.reshape(data,img_rows,img_col,1)\n",
    "x_test = xtest.reshape(data1,img_rows,img_col,1)\n",
    "\n",
    "input_shape = (img_rows,img_col,1)\n",
    "\n",
    "x_train = x_train.astype('float32')\n",
    "x_test = x_test.astype('float32')\n",
    "\n",
    "x_train /=255\n",
    "x_test /=255\n",
    "\n",
    "print(x_test.shape)"
   ]
  },
  {
   "cell_type": "markdown",
   "metadata": {},
   "source": [
    "## One hot encoding"
   ]
  },
  {
   "cell_type": "code",
   "execution_count": 4,
   "metadata": {},
   "outputs": [
    {
     "name": "stdout",
     "output_type": "stream",
     "text": [
      "[0. 0. 0. 0. 0. 1. 0. 0. 0. 0.]\n"
     ]
    }
   ],
   "source": [
    "from keras.utils import np_utils\n",
    "\n",
    "y_train = np_utils.to_categorical(ytrain)\n",
    "y_test = np_utils.to_categorical(ytest)\n",
    "\n",
    "classes = y_train.shape[1]\n",
    "piixels = x_train.shape[1] * x_test.shape[2]\n",
    "\n",
    "print(y_train[0])"
   ]
  },
  {
   "cell_type": "markdown",
   "metadata": {},
   "source": [
    "## CNN Model"
   ]
  },
  {
   "cell_type": "code",
   "execution_count": 7,
   "metadata": {
    "scrolled": true
   },
   "outputs": [
    {
     "name": "stdout",
     "output_type": "stream",
     "text": [
      "WARNING:tensorflow:From C:\\Users\\venkatesh\\Anaconda3\\lib\\site-packages\\keras\\backend\\tensorflow_backend.py:4070: The name tf.nn.max_pool is deprecated. Please use tf.nn.max_pool2d instead.\n",
      "\n",
      "Model: \"sequential_1\"\n",
      "_________________________________________________________________\n",
      "Layer (type)                 Output Shape              Param #   \n",
      "=================================================================\n",
      "conv2d_1 (Conv2D)            (None, 26, 26, 32)        320       \n",
      "_________________________________________________________________\n",
      "conv2d_2 (Conv2D)            (None, 24, 24, 64)        18496     \n",
      "_________________________________________________________________\n",
      "max_pooling2d_1 (MaxPooling2 (None, 12, 12, 64)        0         \n",
      "_________________________________________________________________\n",
      "dropout_1 (Dropout)          (None, 12, 12, 64)        0         \n",
      "_________________________________________________________________\n",
      "flatten_1 (Flatten)          (None, 9216)              0         \n",
      "_________________________________________________________________\n",
      "dense_1 (Dense)              (None, 128)               1179776   \n",
      "_________________________________________________________________\n",
      "dropout_2 (Dropout)          (None, 128)               0         \n",
      "_________________________________________________________________\n",
      "dense_2 (Dense)              (None, 10)                1290      \n",
      "=================================================================\n",
      "Total params: 1,199,882\n",
      "Trainable params: 1,199,882\n",
      "Non-trainable params: 0\n",
      "_________________________________________________________________\n",
      "None\n"
     ]
    }
   ],
   "source": [
    "import keras\n",
    "from keras.models import Sequential \n",
    "from keras.layers import Conv2D,MaxPooling2D,Dense, Dropout,Flatten\n",
    "from keras import backend as k\n",
    "from keras.optimizers import SGD\n",
    "\n",
    "\n",
    "model = Sequential()\n",
    "model.add(Conv2D(32,(3, 3),activation='relu',input_shape=input_shape))\n",
    "model.add(Conv2D(64,(3, 3),activation='relu'))\n",
    "model.add(MaxPooling2D(pool_size=(2,2)))\n",
    "model.add(Dropout(0.25))\n",
    "model.add(Flatten())\n",
    "model.add(Dense(128,activation='relu'))\n",
    "model.add(Dropout(0.5))\n",
    "model.add(Dense(classes,activation='softmax'))\n",
    "model.compile(loss='categorical_crossentropy',optimizer=SGD(0.01),metrics=['accuracy'])\n",
    "\n",
    "print(model.summary())"
   ]
  },
  {
   "cell_type": "markdown",
   "metadata": {},
   "source": [
    "## Train Our Model"
   ]
  },
  {
   "cell_type": "code",
   "execution_count": 8,
   "metadata": {},
   "outputs": [
    {
     "name": "stdout",
     "output_type": "stream",
     "text": [
      "(60000, 10) (10000, 10)\n"
     ]
    }
   ],
   "source": [
    "print(y_train.shape,y_test.shape)"
   ]
  },
  {
   "cell_type": "code",
   "execution_count": 9,
   "metadata": {},
   "outputs": [
    {
     "name": "stdout",
     "output_type": "stream",
     "text": [
      "WARNING:tensorflow:From C:\\Users\\venkatesh\\Anaconda3\\lib\\site-packages\\keras\\backend\\tensorflow_backend.py:422: The name tf.global_variables is deprecated. Please use tf.compat.v1.global_variables instead.\n",
      "\n",
      "Train on 60000 samples, validate on 10000 samples\n",
      "Epoch 1/10\n",
      "60000/60000 [==============================] - 197s 3ms/step - loss: 0.5929 - accuracy: 0.8142 - val_loss: 0.2022 - val_accuracy: 0.9416\n",
      "Epoch 2/10\n",
      "60000/60000 [==============================] - 190s 3ms/step - loss: 0.3003 - accuracy: 0.9095 - val_loss: 0.1465 - val_accuracy: 0.9558\n",
      "Epoch 3/10\n",
      "60000/60000 [==============================] - 203s 3ms/step - loss: 0.2395 - accuracy: 0.9277 - val_loss: 0.1175 - val_accuracy: 0.9642\n",
      "Epoch 4/10\n",
      "60000/60000 [==============================] - 229s 4ms/step - loss: 0.1951 - accuracy: 0.9423 - val_loss: 0.0956 - val_accuracy: 0.9682\n",
      "Epoch 5/10\n",
      "60000/60000 [==============================] - 216s 4ms/step - loss: 0.1634 - accuracy: 0.9517 - val_loss: 0.0754 - val_accuracy: 0.9767\n",
      "Epoch 6/10\n",
      "60000/60000 [==============================] - 193s 3ms/step - loss: 0.1391 - accuracy: 0.9582 - val_loss: 0.0644 - val_accuracy: 0.9794\n",
      "Epoch 7/10\n",
      "60000/60000 [==============================] - 194s 3ms/step - loss: 0.1181 - accuracy: 0.9649 - val_loss: 0.0572 - val_accuracy: 0.9811\n",
      "Epoch 8/10\n",
      "60000/60000 [==============================] - 197s 3ms/step - loss: 0.1069 - accuracy: 0.9681 - val_loss: 0.0520 - val_accuracy: 0.9829\n",
      "Epoch 9/10\n",
      "60000/60000 [==============================] - 198s 3ms/step - loss: 0.0956 - accuracy: 0.9715 - val_loss: 0.0499 - val_accuracy: 0.9842\n",
      "Epoch 10/10\n",
      "60000/60000 [==============================] - 196s 3ms/step - loss: 0.0895 - accuracy: 0.9730 - val_loss: 0.0467 - val_accuracy: 0.9840\n",
      "loss=  0.0467456661895616\n",
      "accuracy=  0.984000027179718\n"
     ]
    }
   ],
   "source": [
    "training = model.fit(x_train,y_train,batch_size=32,epochs=10,verbose=1,validation_data=(x_test,y_test))\n",
    "score = model.evaluate(x_test,y_test,verbose=0)\n",
    "print('loss= ', score[0])\n",
    "print('accuracy= ',score[1])"
   ]
  },
  {
   "cell_type": "markdown",
   "metadata": {},
   "source": [
    "## Plotting Accuracy and Loss"
   ]
  },
  {
   "cell_type": "code",
   "execution_count": 12,
   "metadata": {},
   "outputs": [
    {
     "data": {
      "image/png": "[encoded data removed]",
      "text/plain": [
       "<Figure size 432x288 with 1 Axes>"
      ]
     },
     "metadata": {
      "needs_background": "light"
     },
     "output_type": "display_data"
    }
   ],
   "source": [
    "import matplotlib.pyplot as plt\n",
    "\n",
    "training_dict = training.history\n",
    "\n",
    "loss_values = training_dict['loss']\n",
    "val_loss_values = training_dict['val_loss']\n",
    "epochs = range(1,len(loss_values)+1)\n",
    "\n",
    "line1 = plt.plot(epochs,val_loss_values,label='Validation Loss')\n",
    "line2 = plt.plot(epochs,loss_values,label='Traning Loss')\n",
    "plt.setp(line1,linewidth=2, marker='*',markersize=9)\n",
    "plt.setp(line2,linewidth=2, marker='*',markersize=9)\n",
    "plt.xlabel('epochs')\n",
    "plt.ylabel('Loss')\n",
    "plt.grid(True)\n",
    "plt.legend()\n",
    "plt.show()"
   ]
  },
  {
   "cell_type": "code",
   "execution_count": 13,
   "metadata": {},
   "outputs": [
    {
     "data": {
      "image/png": "[encoded data removed]",
      "text/plain": [
       "<Figure size 432x288 with 1 Axes>"
      ]
     },
     "metadata": {
      "needs_background": "light"
     },
     "output_type": "display_data"
    }
   ],
   "source": [
    "import matplotlib.pyplot as plt\n",
    "\n",
    "training_dict = training.history\n",
    "\n",
    "loss_values = training_dict['accuracy']\n",
    "val_loss_values = training_dict['val_accuracy']\n",
    "epochs = range(1,len(loss_values)+1)\n",
    "\n",
    "line1 = plt.plot(epochs,val_loss_values,label='Validation Accuracy')\n",
    "line2 = plt.plot(epochs,loss_values,label='Traning Accuracy')\n",
    "plt.setp(line1,linewidth=2, marker='*',markersize=9)\n",
    "plt.setp(line2,linewidth=2, marker='*',markersize=9)\n",
    "plt.xlabel('epochs')\n",
    "plt.ylabel('Loss')\n",
    "plt.grid(True)\n",
    "plt.legend()\n",
    "plt.show()"
   ]
  },
  {
   "cell_type": "markdown",
   "metadata": {},
   "source": [
    "## Saving and loading the model"
   ]
  },
  {
   "cell_type": "code",
   "execution_count": 14,
   "metadata": {},
   "outputs": [],
   "source": [
    "model.save(\"D:/Yolo/CNN/digits.h5\")"
   ]
  },
  {
   "cell_type": "code",
   "execution_count": 10,
   "metadata": {},
   "outputs": [
    {
     "name": "stdout",
     "output_type": "stream",
     "text": [
      "WARNING:tensorflow:From C:\\Users\\venkatesh\\Anaconda3\\lib\\site-packages\\keras\\backend\\tensorflow_backend.py:422: The name tf.global_variables is deprecated. Please use tf.compat.v1.global_variables instead.\n",
      "\n",
      "s\n"
     ]
    }
   ],
   "source": [
    "from keras.models import load_model\n",
    "classifier = load_model(\"D:/Yolo/CNN/digits.h5\")\n",
    "print('s')"
   ]
  },
  {
   "cell_type": "code",
   "execution_count": 11,
   "metadata": {},
   "outputs": [],
   "source": [
    "import cv2\n",
    "import numpy as np\n",
    "\n",
    "def draw_number(name,res,inp_img):\n",
    "    black = [0,0,0]\n",
    "    exp_img = cv2.copyMakeBorder(inp_img,0,0,0,imagel.shape[0],cv2.BORDER_CONSTANT,value=black)\n",
    "    exp_img = cv2.cvtColor(exp_img,cv2.COLOR_GRAY2BGR)\n",
    "    cv2.putText(exp_img,str(res),(152,70),cv2.FONT_HERSHEY_COMPLEX_SMALL,4,(0,255,0),2)\n",
    "    cv2.imshow(name,exp_img)\n",
    "    \n",
    "    \n",
    "for i in range(0,7):\n",
    "    rand = np.random.randint(0,len(x_test))\n",
    "    inp_img = x_test[rand]\n",
    "    \n",
    "    imagel=cv2.resize(inp_img,None,fx=4,fy=4,interpolation=cv2.INTER_CUBIC)\n",
    "    inp_img = inp_img.reshape(1,28,28,1)\n",
    "    res = str(classifier.predict_classes(inp_img,1,verbose=0)[0])\n",
    "    \n",
    "    draw_number('prediction',res,imagel)\n",
    "    cv2.waitKey(0)\n",
    "    \n",
    "cv2.destroyAllWindows()"
   ]
  },
  {
   "cell_type": "code",
   "execution_count": null,
   "metadata": {},
   "outputs": [],
   "source": []
  }
 ],
 "metadata": {
  "kernelspec": {
   "display_name": "Python 3",
   "language": "python",
   "name": "python3"
  },
  "language_info": {
   "codemirror_mode": {
    "name": "ipython",
    "version": 3
   },
   "file_extension": ".py",
   "mimetype": "text/x-python",
   "name": "python",
   "nbconvert_exporter": "python",
   "pygments_lexer": "ipython3",
   "version": "3.7.4"
  }
 },
 "nbformat": 4,
 "nbformat_minor": 2
}
